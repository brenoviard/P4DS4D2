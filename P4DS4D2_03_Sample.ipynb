{
 "cells": [
  {
   "cell_type": "markdown",
   "id": "33229991",
   "metadata": {},
   "source": [
    "# Downloading the Datasets and Exemple Code"
   ]
  },
  {
   "cell_type": "code",
   "execution_count": null,
   "id": "19cd427c",
   "metadata": {},
   "outputs": [],
   "source": [
    "## De"
   ]
  }
 ],
 "metadata": {
  "kernelspec": {
   "display_name": "Python 3 (ipykernel)",
   "language": "python",
   "name": "python3"
  },
  "language_info": {
   "codemirror_mode": {
    "name": "ipython",
    "version": 3
   },
   "file_extension": ".py",
   "mimetype": "text/x-python",
   "name": "python",
   "nbconvert_exporter": "python",
   "pygments_lexer": "ipython3",
   "version": "3.10.9"
  }
 },
 "nbformat": 4,
 "nbformat_minor": 5
}
