{
  "nbformat": 4,
  "nbformat_minor": 0,
  "metadata": {
    "colab": {
      "provenance": [],
      "include_colab_link": true
    },
    "kernelspec": {
      "name": "python3",
      "display_name": "Python 3"
    },
    "language_info": {
      "name": "python"
    }
  },
  "cells": [
    {
      "cell_type": "markdown",
      "metadata": {
        "id": "view-in-github",
        "colab_type": "text"
      },
      "source": [
        "<a href=\"https://colab.research.google.com/github/brenoviard/P4DS4D2/blob/main/Atividade_06_29_09.ipynb\" target=\"_parent\"><img src=\"https://colab.research.google.com/assets/colab-badge.svg\" alt=\"Open In Colab\"/></a>"
      ]
    },
    {
      "cell_type": "markdown",
      "source": [
        "# **Estudo de Caso 01: Estatísticas de Números Reais**\n",
        "\n",
        "Crie um programa que permita aos usuários inserir números reais maiores que zero. O programa deve continuar a receber números até que seja digitado o número zero para encerrar. Ao encerrar, o programa deve apresentar as seguintes estatísticas:\n",
        "\n",
        "\n",
        "\n",
        "*   A quantidade total de números digitados.\n",
        "*   A soma de todos os números inseridos.\n",
        "*   A média dos números inseridos.\n",
        "*   O maior valor digitado.\n",
        "*   Os números negativos ou iguais a zero não serão considerados."
      ],
      "metadata": {
        "id": "etjOaDGo0CKi"
      }
    },
    {
      "cell_type": "code",
      "execution_count": 28,
      "metadata": {
        "id": "cUUQwvYsz7Bd",
        "colab": {
          "base_uri": "https://localhost:8080/"
        },
        "outputId": "8b79f41a-c863-461d-ce06-0ef48e27a4e0"
      },
      "outputs": [
        {
          "output_type": "stream",
          "name": "stdout",
          "text": [
            "Insira um número: 12\n",
            "Numero Cadastrado com Sucesso!\n",
            "Insira um número: 18\n",
            "Numero Cadastrado com Sucesso!\n",
            "Insira um número: -13\n",
            "Permitido apenas números Reais positivos\n",
            "Insira um número: 15.5\n",
            "Numero Cadastrado com Sucesso!\n",
            "Insira um número: 16.5\n",
            "Numero Cadastrado com Sucesso!\n",
            "Insira um número: 0\n",
            "Resultado da apuração:\n",
            " - Maior número: 18.0\n",
            " - Total digitado: 4.0\n",
            " - Soma Total: 62.0\n",
            " - Média: 15.50\n"
          ]
        }
      ],
      "source": [
        "num = float(input('Insira um número: '))\n",
        "contador = float(0)\n",
        "soma = float(0)\n",
        "maior =  float(0)\n",
        "media =  float(0)\n",
        "\n",
        "while num != 0:\n",
        "  if num <= 0:\n",
        "    print('Permitido apenas números Reais positivos')\n",
        "    num = float(input('Insira um número: '))\n",
        "  else:\n",
        "    print('Numero Cadastrado com Sucesso!')\n",
        "    if contador == 0:\n",
        "      maior = num\n",
        "    else:\n",
        "      if num > maior:\n",
        "        maior = num\n",
        "    contador += 1\n",
        "    soma += num\n",
        "    media = soma / contador\n",
        "    num = float(input('Insira um número: '))\n",
        "\n",
        "\n",
        "\n",
        "print(f'Resultado da apuração:\\n - Maior número: {maior}\\n - Total digitado: {contador}\\n - Soma Total: {soma}\\n - Média: {media:.2f}')"
      ]
    },
    {
      "cell_type": "markdown",
      "source": [
        "# **Estudo de Caso 02: Urna Eletrônica**\n",
        "\n",
        "Faça um programa que simule a urna eletrônica. A tela a ser apresentada deverá ser da seguinte forma:\n",
        "\n",
        "As opcoes sao:\n",
        "1. Candidato Jair Rodrigues\n",
        "2. Candidato Carlos Luz\n",
        "3. Candidato Neves Rocha\n",
        "4. Nulo\n",
        "5. Branco\n",
        "6. <<FINALIZAR VOTAÇÃO>>\n",
        "\n",
        "Entre com o seu voto:\n",
        "\n",
        "O programa deverá ler os votos dos eleitores e, quando for entrado o número 6, apresentar as seguintes informações:\n",
        "\n",
        "a) O número de votos de cada candidato;\n",
        "\n",
        "b) A porcentagem de votos nulos;\n",
        "\n",
        "c) A porcentagem de votos brancos;\n",
        "\n",
        "d) O candidato vencedor.\n"
      ],
      "metadata": {
        "id": "yZbtGXanESuV"
      }
    },
    {
      "cell_type": "code",
      "source": [
        "print(\"\\t\\tEleições 2023\\nEscolha uma das opções para votar:\\n\\t1. Jair Rodrigues\\n\\t2. Carlos Luz\\n\\t3. Neves Rocha\\n\\t4. Nulo\\n\\t5. Branco\\n\\t6. Encerrar Votação \")\n",
        "candidato_1 = int(0)\n",
        "candidato_2 = int(0)\n",
        "candidato_3 = int(0)\n",
        "votos_nulos = int(0)\n",
        "votos_branco = int(0)\n",
        "contador = int(0)\n",
        "\n",
        "voto = int(input('Digite o número do seu candidato: '))\n",
        "while voto != 6:\n",
        "  if voto > 6 or voto < 1:\n",
        "   print('Opção inválida!')\n",
        "  else:\n",
        "    contador += 1\n",
        "    if voto == 1:\n",
        "      candidato_1 += 1\n",
        "    elif voto == 2:\n",
        "      candidato_2 += 1\n",
        "    elif voto == 3:\n",
        "      candidato_3 += 1\n",
        "    elif voto == 4:\n",
        "      votos_nulos += 1\n",
        "    else:\n",
        "      votos_branco += 1\n",
        "  voto = int(input('Digite o número do seu candidato: '))\n",
        "if candidato_1 > candidato_2 and candidato_1 > candidato_3:\n",
        "     resultado = 'Jair Rodrigues'\n",
        "elif candidato_2 > candidato_1 and candidato_2 > candidato_3:\n",
        "     resultado = 'Calos Luiz'\n",
        "elif candidato_3 > candidato_1 and candidato_3 > candidato_2:\n",
        "     resultado = 'Neves Rocha'\n",
        "else:\n",
        "  resultado = 'Houve um empate. As eleições irão para o 2º Turno'\n",
        "nulos_porc = (votos_nulos / contador) * 100\n",
        "brancos_porc = (votos_branco / contador) * 100\n",
        "print(f'Total de Votos: {contador}\\n 1. Jair Rodrigues: {candidato_1}\\n 2. Carlos Luz: {candidato_2}\\n 3. Neves Rocha: {candidato_3}\\n4. Votos nulos : {nulos_porc:.2f}%\\n5. Votos brancos: {brancos_porc:.2f}%\\n RESULTADO: {resultado}')\n"
      ],
      "metadata": {
        "id": "QjlC_eedGCA9",
        "colab": {
          "base_uri": "https://localhost:8080/"
        },
        "outputId": "8eed585d-feba-4e3d-b2c6-63d6d0be98c6"
      },
      "execution_count": 61,
      "outputs": [
        {
          "output_type": "stream",
          "name": "stdout",
          "text": [
            "\t\tEleições 2023\n",
            "Escolha uma das opções para votar:\n",
            "\t1. Jair Rodrigues\n",
            "\t2. Carlos Luz\n",
            "\t3. Neves Rocha\n",
            "\t4. Nulo\n",
            "\t5. Branco\n",
            "\t6. Encerrar Votação \n",
            "Digite o número do seu candidato: 2\n",
            "Digite o número do seu candidato: 2\n",
            "Digite o número do seu candidato: 3\n",
            "Digite o número do seu candidato: 3\n",
            "Digite o número do seu candidato: 3\n",
            "Digite o número do seu candidato: 1\n",
            "Digite o número do seu candidato: 4\n",
            "Digite o número do seu candidato: 5\n",
            "Digite o número do seu candidato: 6\n",
            "Total de Votos: 8\n",
            " 1. Jair Rodrigues: 1\n",
            " 2. Carlos Luz: 2\n",
            " 3. Neves Rocha: 3\n",
            "4. Votos nulos : 12.50%\n",
            "5. Votos brancos: 12.50%\n",
            " RESULTADO: Neves Rocha\n"
          ]
        }
      ]
    }
  ]
}