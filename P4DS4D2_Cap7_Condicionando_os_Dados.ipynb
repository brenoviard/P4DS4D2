{
 "cells": [
  {
   "cell_type": "markdown",
   "id": "01019a00",
   "metadata": {},
   "source": [
    "## Descobrindo o que existe nos dados\n"
   ]
  },
  {
   "cell_type": "code",
   "execution_count": 14,
   "id": "08debba1",
   "metadata": {},
   "outputs": [
    {
     "name": "stdout",
     "output_type": "stream",
     "text": [
      "  Number  String Boolean\n",
      "0      1   First    True\n",
      "1      2  Second   False\n",
      "2      3   Third    True\n",
      "3      3   Third    True\n",
      "\n",
      "3    True\n",
      "dtype: bool\n"
     ]
    },
    {
     "name": "stderr",
     "output_type": "stream",
     "text": [
      "C:\\Users\\breno\\AppData\\Local\\Temp\\ipykernel_3740\\1706899753.py:15: FutureWarning: The frame.append method is deprecated and will be removed from pandas in a future version. Use pandas.concat instead.\n",
      "  df = df.append(row_s)\n",
      "C:\\Users\\breno\\AppData\\Local\\Temp\\ipykernel_3740\\1706899753.py:15: FutureWarning: The frame.append method is deprecated and will be removed from pandas in a future version. Use pandas.concat instead.\n",
      "  df = df.append(row_s)\n",
      "C:\\Users\\breno\\AppData\\Local\\Temp\\ipykernel_3740\\1706899753.py:15: FutureWarning: The frame.append method is deprecated and will be removed from pandas in a future version. Use pandas.concat instead.\n",
      "  df = df.append(row_s)\n",
      "C:\\Users\\breno\\AppData\\Local\\Temp\\ipykernel_3740\\1706899753.py:15: FutureWarning: The frame.append method is deprecated and will be removed from pandas in a future version. Use pandas.concat instead.\n",
      "  df = df.append(row_s)\n"
     ]
    }
   ],
   "source": [
    "from lxml import objectify\n",
    "import pandas as pd\n",
    "\n",
    "xml = objectify.parse(open('XMLData2_copy.xml'))\n",
    "root = xml.getroot()\n",
    "df = pd.DataFrame(columns = ('Number', 'String', 'Boolean'))\n",
    "\n",
    "for i in range(0,4):\n",
    "    obj = root.getchildren()[i].getchildren()\n",
    "    row = dict(zip(['Number', 'String', 'Boolean'],\n",
    "                  [obj[0].text, obj[1].text, obj[2].text]))\n",
    "    \n",
    "    row_s = pd.Series(row)\n",
    "    row_s.name = i\n",
    "    df = df.append(row_s)\n",
    "\n",
    "search = pd.DataFrame.duplicated(df)\n",
    "print(df)\n",
    "print()\n",
    "print(search[search==True])"
   ]
  },
  {
   "cell_type": "markdown",
   "id": "5afe56ad",
   "metadata": {},
   "source": [
    "## Removendo Duplicadas"
   ]
  },
  {
   "cell_type": "code",
   "execution_count": 15,
   "id": "0b9b985b",
   "metadata": {},
   "outputs": [
    {
     "name": "stdout",
     "output_type": "stream",
     "text": [
      "  Number  String Boolean\n",
      "0      1   First    True\n",
      "1      2  Second   False\n",
      "2      3   Third    True\n"
     ]
    },
    {
     "name": "stderr",
     "output_type": "stream",
     "text": [
      "C:\\Users\\breno\\AppData\\Local\\Temp\\ipykernel_3740\\2032680206.py:15: FutureWarning: The frame.append method is deprecated and will be removed from pandas in a future version. Use pandas.concat instead.\n",
      "  df = df.append(row_s)\n",
      "C:\\Users\\breno\\AppData\\Local\\Temp\\ipykernel_3740\\2032680206.py:15: FutureWarning: The frame.append method is deprecated and will be removed from pandas in a future version. Use pandas.concat instead.\n",
      "  df = df.append(row_s)\n",
      "C:\\Users\\breno\\AppData\\Local\\Temp\\ipykernel_3740\\2032680206.py:15: FutureWarning: The frame.append method is deprecated and will be removed from pandas in a future version. Use pandas.concat instead.\n",
      "  df = df.append(row_s)\n",
      "C:\\Users\\breno\\AppData\\Local\\Temp\\ipykernel_3740\\2032680206.py:15: FutureWarning: The frame.append method is deprecated and will be removed from pandas in a future version. Use pandas.concat instead.\n",
      "  df = df.append(row_s)\n"
     ]
    }
   ],
   "source": [
    "from lxml import objectify\n",
    "import pandas as pd\n",
    "\n",
    "xml = objectify.parse(open('XMLData2_copy.xml'))\n",
    "root = xml.getroot()\n",
    "df = pd.DataFrame(columns = ('Number', 'String', 'Boolean'))\n",
    "\n",
    "for i in range(0,4):\n",
    "    obj = root.getchildren()[i].getchildren()\n",
    "    row = dict(zip(['Number', 'String', 'Boolean'],\n",
    "                  [obj[0].text, obj[1].text, obj[2].text]))\n",
    "    \n",
    "    row_s = pd.Series(row)\n",
    "    row_s.name = i\n",
    "    df = df.append(row_s)\n",
    "\n",
    "\n",
    "print(df.drop_duplicates())"
   ]
  },
  {
   "cell_type": "markdown",
   "id": "d347f29f",
   "metadata": {},
   "source": [
    "# Manipulando Variáveis Categóricas"
   ]
  },
  {
   "cell_type": "code",
   "execution_count": 16,
   "id": "1234af4d",
   "metadata": {},
   "outputs": [
    {
     "name": "stdout",
     "output_type": "stream",
     "text": [
      "1.4.4\n"
     ]
    }
   ],
   "source": [
    "import pandas as pd\n",
    "print(pd.__version__)"
   ]
  },
  {
   "cell_type": "markdown",
   "id": "527880ea",
   "metadata": {},
   "source": [
    "## Criando variável Categórica"
   ]
  },
  {
   "cell_type": "code",
   "execution_count": 30,
   "id": "60ffde63",
   "metadata": {},
   "outputs": [
    {
     "name": "stdout",
     "output_type": "stream",
     "text": [
      "0        Azul\n",
      "1    Vermelho\n",
      "2       Verde\n",
      "dtype: category\n",
      "Categories (3, object): ['Azul', 'Verde', 'Vermelho']\n",
      "\n",
      "0         NaN\n",
      "1       Verde\n",
      "2        Azul\n",
      "3         NaN\n",
      "4    Vermelho\n",
      "dtype: category\n",
      "Categories (3, object): ['Azul', 'Verde', 'Vermelho']\n",
      "\n",
      "1    False\n",
      "2    False\n",
      "4    False\n",
      "dtype: bool\n"
     ]
    }
   ],
   "source": [
    "import pandas as pd\n",
    "\n",
    "car_colors = pd.Series(['Azul', 'Vermelho', 'Verde'],\n",
    "                     dtype = 'category')\n",
    "\n",
    "car_data = pd.Series(\n",
    "    pd.Categorical(\n",
    "        ['Amarelo', 'Verde', 'Azul', 'Roxo', 'Vermelho'],\n",
    "            categories=car_colors, ordered=False))\n",
    "\n",
    "\n",
    "find_entries = pd.isnull(car_data)\n",
    "\n",
    "print(car_colors)\n",
    "print()\n",
    "print(car_data)\n",
    "print()\n",
    "print(find_entries[find_entries == False])"
   ]
  },
  {
   "cell_type": "markdown",
   "id": "5b4654e5",
   "metadata": {},
   "source": [
    "## Combinando Categorias"
   ]
  },
  {
   "cell_type": "code",
   "execution_count": 35,
   "id": "5e950a08",
   "metadata": {},
   "outputs": [
    {
     "name": "stdout",
     "output_type": "stream",
     "text": [
      "1    Verde\n",
      "3    Verde\n",
      "5    Verde\n",
      "dtype: category\n",
      "Categories (4, object): ['Azul', 'Verde', 'Vermelho', 'Azul_Vermelho']\n",
      "\n",
      "0    Azul_Vermelho\n",
      "1            Verde\n",
      "2    Azul_Vermelho\n",
      "3            Verde\n",
      "4    Azul_Vermelho\n",
      "5            Verde\n",
      "dtype: category\n",
      "Categories (2, object): ['Verde', 'Azul_Vermelho']\n"
     ]
    }
   ],
   "source": [
    "import pandas as pd\n",
    "\n",
    "car_colors = pd.Series(['Azul','Vermelho','Verde'],\n",
    "                      dtype = 'category')\n",
    "car_data = pd.Series(\n",
    "    pd.Categorical(\n",
    "        ['Azul','Verde','Vermelho','Verde','Vermelho','Verde'],\n",
    "        categories=car_colors, ordered=False))\n",
    "\n",
    "car_data = car_data.cat.set_categories(\n",
    "    ['Azul','Verde','Vermelho','Azul_Vermelho'])\n",
    "\n",
    "print(car_data.loc[car_data.isin(['Verde'])])\n",
    "\n",
    "car_data.loc[car_data.isin(['Vermelho'])] = \"Azul_Vermelho\"\n",
    "car_data.loc[car_data.isin(['Azul'])] = \"Azul_Vermelho\"\n",
    "\n",
    "car_data = car_data.cat.set_categories(\n",
    "    ['Verde','Azul_Vermelho'])\n",
    "\n",
    "print()\n",
    "print(car_data)"
   ]
  },
  {
   "cell_type": "code",
   "execution_count": null,
   "id": "68e565d7",
   "metadata": {},
   "outputs": [],
   "source": []
  }
 ],
 "metadata": {
  "kernelspec": {
   "display_name": "Python 3 (ipykernel)",
   "language": "python",
   "name": "python3"
  },
  "language_info": {
   "codemirror_mode": {
    "name": "ipython",
    "version": 3
   },
   "file_extension": ".py",
   "mimetype": "text/x-python",
   "name": "python",
   "nbconvert_exporter": "python",
   "pygments_lexer": "ipython3",
   "version": "3.9.13"
  }
 },
 "nbformat": 4,
 "nbformat_minor": 5
}
