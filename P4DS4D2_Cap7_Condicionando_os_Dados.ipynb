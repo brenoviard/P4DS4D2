{
 "cells": [
  {
   "cell_type": "markdown",
   "id": "01019a00",
   "metadata": {},
   "source": [
    "## Descobrindo o que existe nos dados\n"
   ]
  },
  {
   "cell_type": "code",
   "execution_count": null,
   "id": "08debba1",
   "metadata": {},
   "outputs": [
    {
     "name": "stdout",
     "output_type": "stream",
     "text": [
      "  Number  String Boolean\n",
      "0      1   First    True\n",
      "1      2  Second   False\n",
      "2      3   Third    True\n",
      "3      3   Third    True\n",
      "\n",
      "3    True\n",
      "dtype: bool\n"
     ]
    },
    {
     "name": "stderr",
     "output_type": "stream",
     "text": [
      "C:\\Users\\breno\\AppData\\Local\\Temp\\ipykernel_3740\\1706899753.py:15: FutureWarning: The frame.append method is deprecated and will be removed from pandas in a future version. Use pandas.concat instead.\n",
      "  df = df.append(row_s)\n",
      "C:\\Users\\breno\\AppData\\Local\\Temp\\ipykernel_3740\\1706899753.py:15: FutureWarning: The frame.append method is deprecated and will be removed from pandas in a future version. Use pandas.concat instead.\n",
      "  df = df.append(row_s)\n",
      "C:\\Users\\breno\\AppData\\Local\\Temp\\ipykernel_3740\\1706899753.py:15: FutureWarning: The frame.append method is deprecated and will be removed from pandas in a future version. Use pandas.concat instead.\n",
      "  df = df.append(row_s)\n",
      "C:\\Users\\breno\\AppData\\Local\\Temp\\ipykernel_3740\\1706899753.py:15: FutureWarning: The frame.append method is deprecated and will be removed from pandas in a future version. Use pandas.concat instead.\n",
      "  df = df.append(row_s)\n"
     ]
    }
   ],
   "source": [
    "from lxml import objectify\n",
    "import pandas as pd\n",
    "\n",
    "xml = objectify.parse(open('XMLData2_copy.xml'))\n",
    "root = xml.getroot()\n",
    "df = pd.DataFrame(columns = ('Number', 'String', 'Boolean'))\n",
    "\n",
    "for i in range(0,4):\n",
    "    obj = root.getchildren()[i].getchildren()\n",
    "    row = dict(zip(['Number', 'String', 'Boolean'],\n",
    "                  [obj[0].text, obj[1].text, obj[2].text]))\n",
    "    \n",
    "    row_s = pd.Series(row)\n",
    "    row_s.name = i\n",
    "    df = df.append(row_s)\n",
    "\n",
    "search = pd.DataFrame.duplicated(df)\n",
    "print(df)\n",
    "print()\n",
    "print(search[search==True])"
   ]
  },
  {
   "cell_type": "markdown",
   "id": "5afe56ad",
   "metadata": {},
   "source": [
    "## Removendo Duplicadas"
   ]
  },
  {
   "cell_type": "code",
   "execution_count": null,
   "id": "0b9b985b",
   "metadata": {},
   "outputs": [
    {
     "name": "stdout",
     "output_type": "stream",
     "text": [
      "  Number  String Boolean\n",
      "0      1   First    True\n",
      "1      2  Second   False\n",
      "2      3   Third    True\n"
     ]
    },
    {
     "name": "stderr",
     "output_type": "stream",
     "text": [
      "C:\\Users\\breno\\AppData\\Local\\Temp\\ipykernel_3740\\2032680206.py:15: FutureWarning: The frame.append method is deprecated and will be removed from pandas in a future version. Use pandas.concat instead.\n",
      "  df = df.append(row_s)\n",
      "C:\\Users\\breno\\AppData\\Local\\Temp\\ipykernel_3740\\2032680206.py:15: FutureWarning: The frame.append method is deprecated and will be removed from pandas in a future version. Use pandas.concat instead.\n",
      "  df = df.append(row_s)\n",
      "C:\\Users\\breno\\AppData\\Local\\Temp\\ipykernel_3740\\2032680206.py:15: FutureWarning: The frame.append method is deprecated and will be removed from pandas in a future version. Use pandas.concat instead.\n",
      "  df = df.append(row_s)\n",
      "C:\\Users\\breno\\AppData\\Local\\Temp\\ipykernel_3740\\2032680206.py:15: FutureWarning: The frame.append method is deprecated and will be removed from pandas in a future version. Use pandas.concat instead.\n",
      "  df = df.append(row_s)\n"
     ]
    }
   ],
   "source": [
    "from lxml import objectify\n",
    "import pandas as pd\n",
    "\n",
    "xml = objectify.parse(open('XMLData2_copy.xml'))\n",
    "root = xml.getroot()\n",
    "df = pd.DataFrame(columns = ('Number', 'String', 'Boolean'))\n",
    "\n",
    "for i in range(0,4):\n",
    "    obj = root.getchildren()[i].getchildren()\n",
    "    row = dict(zip(['Number', 'String', 'Boolean'],\n",
    "                  [obj[0].text, obj[1].text, obj[2].text]))\n",
    "    \n",
    "    row_s = pd.Series(row)\n",
    "    row_s.name = i\n",
    "    df = df.append(row_s)\n",
    "\n",
    "\n",
    "print(df.drop_duplicates())"
   ]
  },
  {
   "cell_type": "markdown",
   "id": "d347f29f",
   "metadata": {},
   "source": [
    "# Manipulando Variáveis Categóricas"
   ]
  },
  {
   "cell_type": "code",
   "execution_count": null,
   "id": "1234af4d",
   "metadata": {},
   "outputs": [
    {
     "name": "stdout",
     "output_type": "stream",
     "text": [
      "1.4.4\n"
     ]
    }
   ],
   "source": [
    "import pandas as pd\n",
    "print(pd.__version__)"
   ]
  },
  {
   "cell_type": "markdown",
   "id": "527880ea",
   "metadata": {},
   "source": [
    "## Criando variável Categórica"
   ]
  },
  {
   "cell_type": "code",
   "execution_count": null,
   "id": "60ffde63",
   "metadata": {},
   "outputs": [
    {
     "name": "stdout",
     "output_type": "stream",
     "text": [
      "0        Azul\n",
      "1    Vermelho\n",
      "2       Verde\n",
      "dtype: category\n",
      "Categories (3, object): ['Azul', 'Verde', 'Vermelho']\n",
      "\n",
      "0         NaN\n",
      "1       Verde\n",
      "2        Azul\n",
      "3         NaN\n",
      "4    Vermelho\n",
      "dtype: category\n",
      "Categories (3, object): ['Azul', 'Verde', 'Vermelho']\n",
      "\n",
      "1    False\n",
      "2    False\n",
      "4    False\n",
      "dtype: bool\n"
     ]
    }
   ],
   "source": [
    "import pandas as pd\n",
    "\n",
    "car_colors = pd.Series(['Azul', 'Vermelho', 'Verde'],\n",
    "                     dtype = 'category')\n",
    "\n",
    "car_data = pd.Series(\n",
    "    pd.Categorical(\n",
    "        ['Amarelo', 'Verde', 'Azul', 'Roxo', 'Vermelho'],\n",
    "            categories=car_colors, ordered=False))\n",
    "\n",
    "\n",
    "find_entries = pd.isnull(car_data)\n",
    "\n",
    "print(car_colors)\n",
    "print()\n",
    "print(car_data)\n",
    "print()\n",
    "print(find_entries[find_entries == False])"
   ]
  },
  {
   "cell_type": "markdown",
   "id": "5b4654e5",
   "metadata": {},
   "source": [
    "## Combinando Categorias"
   ]
  },
  {
   "cell_type": "code",
   "execution_count": null,
   "id": "5e950a08",
   "metadata": {},
   "outputs": [
    {
     "name": "stdout",
     "output_type": "stream",
     "text": [
      "1    Verde\n",
      "3    Verde\n",
      "5    Verde\n",
      "dtype: category\n",
      "Categories (4, object): ['Azul', 'Verde', 'Vermelho', 'Azul_Vermelho']\n",
      "\n",
      "0    Azul_Vermelho\n",
      "1            Verde\n",
      "2    Azul_Vermelho\n",
      "3            Verde\n",
      "4    Azul_Vermelho\n",
      "5            Verde\n",
      "dtype: category\n",
      "Categories (2, object): ['Verde', 'Azul_Vermelho']\n"
     ]
    }
   ],
   "source": [
    "import pandas as pd\n",
    "\n",
    "car_colors = pd.Series(['Azul','Vermelho','Verde'],\n",
    "                      dtype = 'category')\n",
    "car_data = pd.Series(\n",
    "    pd.Categorical(\n",
    "        ['Azul','Verde','Vermelho','Verde','Vermelho','Verde'],\n",
    "        categories=car_colors, ordered=False))\n",
    "\n",
    "car_data = car_data.cat.set_categories(\n",
    "    ['Azul','Verde','Vermelho','Azul_Vermelho'])\n",
    "\n",
    "print(car_data.loc[car_data.isin(['Verde'])])\n",
    "\n",
    "car_data.loc[car_data.isin(['Vermelho'])] = \"Azul_Vermelho\"\n",
    "car_data.loc[car_data.isin(['Azul'])] = \"Azul_Vermelho\"\n",
    "\n",
    "car_data = car_data.cat.set_categories(\n",
    "    ['Verde','Azul_Vermelho'])\n",
    "\n",
    "print()\n",
    "print(car_data)"
   ]
  },
  {
   "cell_type": "markdown",
   "id": "68e565d7",
   "metadata": {},
   "source": [
    "# Lidando com Dados Ausentes\n",
    "## Encontrando dados ausentes"
   ]
  },
  {
   "cell_type": "code",
   "execution_count": 6,
   "id": "6d13a42d",
   "metadata": {},
   "outputs": [
    {
     "name": "stdout",
     "output_type": "stream",
     "text": [
      "0    False\n",
      "1    False\n",
      "2    False\n",
      "3     True\n",
      "4    False\n",
      "5    False\n",
      "6     True\n",
      "dtype: bool\n",
      "\n",
      "3   NaN\n",
      "6   NaN\n",
      "dtype: float64\n"
     ]
    }
   ],
   "source": [
    "import pandas as pd\n",
    "import numpy as np\n",
    "\n",
    "s = pd.Series([1, 2, 3 , np.NaN, 5, 6, None])\n",
    "\n",
    "print(s.isnull())\n",
    "\n",
    "print()\n",
    "\n",
    "print(s[s.isnull()])"
   ]
  },
  {
   "cell_type": "code",
   "execution_count": 31,
   "id": "f3743204",
   "metadata": {},
   "outputs": [
    {
     "name": "stdout",
     "output_type": "stream",
     "text": [
      "0    1.0\n",
      "1    2.0\n",
      "2    3.0\n",
      "3    4.0\n",
      "4    5.0\n",
      "5    6.0\n",
      "6    7.0\n",
      "dtype: float64\n"
     ]
    }
   ],
   "source": [
    "\"\"\"\n",
    "from sklearn.preprocessing import Imputer\n",
    " - essa linha de código estava apresentando erro\n",
    " pois a biblioteca estava descontinuada\n",
    " \n",
    " Existem algumas técnicas para inserção de dados, \n",
    " essa atribui valores a dados ausentes\n",
    "\n",
    "\"\"\"\n",
    "import pandas as pd\n",
    "import numpy as np\n",
    "from sklearn.impute import SimpleImputer\n",
    "\n",
    "s = [[1, 2, 3 , np.NaN, 5, 6, None]]\n",
    "\n",
    "imp = SimpleImputer(\n",
    "    missing_values=np.NaN,\n",
    "    strategy='mean')\n",
    "\n",
    "imp.fit([[1,2,3,4,5,6,7]])\n",
    "\n",
    "x = pd.Series(imp.transform(s).tolist()[0])\n",
    "\n",
    "print(x)"
   ]
  },
  {
   "cell_type": "markdown",
   "id": "d6206538",
   "metadata": {},
   "source": [
    "## Inputação univariada"
   ]
  },
  {
   "cell_type": "code",
   "execution_count": 18,
   "id": "dfa3eca6",
   "metadata": {},
   "outputs": [
    {
     "name": "stdout",
     "output_type": "stream",
     "text": [
      "[[4.         2.        ]\n",
      " [6.         3.66666667]\n",
      " [7.         6.        ]]\n"
     ]
    }
   ],
   "source": [
    "# O trecho a seguir demonstra como substiruir os valores ausentes, codificados como np.nanm usando o valor médio das colunas\n",
    "#(eixo 0) que contem os valores ausentes\n",
    "\n",
    "import numpy as np\n",
    "from sklearn.impute import SimpleImputer\n",
    "\n",
    "imp = SimpleImputer(missing_values = np.nan, strategy = 'mean')\n",
    "\n",
    "imp.fit([[1,2],[np.nan,3],[7,6]]) #exio 0 > 1 + 7 = 8 / 2 = 4\n",
    "SimpleImputer()                   #eixo 1 > 2 + 3 + 6 = 11 / 3 = 3.66666 \n",
    "x = [[np.nan,2],[6,np.nan],[7,6]]\n",
    "print(imp.transform(x))\n"
   ]
  },
  {
   "cell_type": "code",
   "execution_count": 29,
   "id": "9290a7b5",
   "metadata": {},
   "outputs": [
    {
     "name": "stdout",
     "output_type": "stream",
     "text": [
      "[[3. 2.]\n",
      " [6. 3.]\n",
      " [7. 6.]]\n"
     ]
    }
   ],
   "source": [
    "# Também aplica-se a matrizes\n",
    "\n",
    "import scipy.sparse as sp \n",
    "x = sp.csc_matrix([[1,2],[0,-1],[8,4]])\n",
    "imp = SimpleImputer(missing_values=-1, strategy='mean')\n",
    "imp.fit(x)\n",
    "\n",
    "x_test = sp.csc_matrix([[-1,2],[6,-1],[7,6]])\n",
    "print(imp.transform(x_test).toarray())"
   ]
  },
  {
   "cell_type": "code",
   "execution_count": 32,
   "id": "005d9152",
   "metadata": {},
   "outputs": [
    {
     "name": "stdout",
     "output_type": "stream",
     "text": [
      "[['a' 'x']\n",
      " ['a' 'y']\n",
      " ['a' 'y']\n",
      " ['b' 'y']]\n"
     ]
    }
   ],
   "source": [
    "# SimpleImporter permite aplicação também com variáveis categóricas\n",
    "\n",
    "import pandas as pd\n",
    "df = pd.DataFrame([['a','x'],\n",
    "                  [np.nan, 'y'],\n",
    "                  ['a',np.nan],\n",
    "                  ['b','y']],dtype='category')\n",
    "\n",
    "imp = SimpleImputer(strategy='most_frequent')\n",
    "print(imp.fit_transform(df))\n"
   ]
  },
  {
   "cell_type": "markdown",
   "id": "deffa5e7",
   "metadata": {},
   "source": [
    "https://scikit-learn.org/stable/modules/impute.html"
   ]
  }
 ],
 "metadata": {
  "kernelspec": {
   "display_name": "Python 3 (ipykernel)",
   "language": "python",
   "name": "python3"
  },
  "language_info": {
   "codemirror_mode": {
    "name": "ipython",
    "version": 3
   },
   "file_extension": ".py",
   "mimetype": "text/x-python",
   "name": "python",
   "nbconvert_exporter": "python",
   "pygments_lexer": "ipython3",
   "version": "3.10.9"
  }
 },
 "nbformat": 4,
 "nbformat_minor": 5
}
