{
 "cells": [
  {
   "cell_type": "markdown",
   "id": "594770df",
   "metadata": {},
   "source": [
    "Repetição de comando\n",
    "    - repita a ação x vezes\n",
    "    \n",
    "\n"
   ]
  },
  {
   "cell_type": "code",
   "execution_count": 2,
   "id": "cb82057a",
   "metadata": {},
   "outputs": [
    {
     "name": "stdout",
     "output_type": "stream",
     "text": [
      "andre\n",
      "bruna\n",
      "carol\n",
      "eduardo\n",
      "marcela\n",
      "pedro\n"
     ]
    }
   ],
   "source": [
    "alunos = ['andre','bruna','carol','eduardo','marcela','pedro']\n",
    "for aluno in alunos:\n",
    "    print(aluno)"
   ]
  },
  {
   "cell_type": "code",
   "execution_count": 3,
   "id": "abc1886e",
   "metadata": {},
   "outputs": [
    {
     "name": "stdout",
     "output_type": "stream",
     "text": [
      "123_andre\n",
      "123_bruna\n",
      "123_carol\n",
      "123_eduardo\n",
      "123_marcela\n",
      "123_pedro\n"
     ]
    }
   ],
   "source": [
    "for aluno in alunos:\n",
    "    aluno_id = '123_'+aluno\n",
    "    print(aluno_id)"
   ]
  },
  {
   "cell_type": "code",
   "execution_count": 5,
   "id": "848b5984",
   "metadata": {},
   "outputs": [
    {
     "data": {
      "text/plain": [
       "['123_andre',\n",
       " '123_bruna',\n",
       " '123_carol',\n",
       " '123_eduardo',\n",
       " '123_marcela',\n",
       " '123_pedro']"
      ]
     },
     "execution_count": 5,
     "metadata": {},
     "output_type": "execute_result"
    }
   ],
   "source": [
    "ids = []\n",
    "\n",
    "for aluno in alunos:\n",
    "    aluno_id = '123_'+aluno\n",
    "    ids.append(aluno_id)\n",
    "\n",
    "ids"
   ]
  },
  {
   "cell_type": "code",
   "execution_count": 6,
   "id": "b82dcef7",
   "metadata": {},
   "outputs": [
    {
     "name": "stdout",
     "output_type": "stream",
     "text": [
      "andre\n",
      "bruna\n",
      "carol\n",
      "eduardo\n",
      "marcela\n",
      "pedro\n"
     ]
    }
   ],
   "source": [
    "for aluno in sorted(alunos):\n",
    "    print(aluno)"
   ]
  },
  {
   "cell_type": "code",
   "execution_count": 7,
   "id": "6fcd9df4",
   "metadata": {},
   "outputs": [
    {
     "name": "stdout",
     "output_type": "stream",
     "text": [
      "pedro\n",
      "marcela\n",
      "eduardo\n",
      "carol\n",
      "bruna\n",
      "andre\n"
     ]
    }
   ],
   "source": [
    "for aluno in reversed(alunos):\n",
    "    print(aluno)"
   ]
  },
  {
   "cell_type": "code",
   "execution_count": 8,
   "id": "4f848b36",
   "metadata": {},
   "outputs": [
    {
     "data": {
      "text/plain": [
       "['123_andre',\n",
       " '123_bruna',\n",
       " '123_carol',\n",
       " '789_eduardo',\n",
       " '789_marcela',\n",
       " '789_pedro']"
      ]
     },
     "execution_count": 8,
     "metadata": {},
     "output_type": "execute_result"
    }
   ],
   "source": [
    "ids = []\n",
    "for aluno in alunos:\n",
    "    if aluno[0] in ['a','b','c','d','f','g']:\n",
    "        aluno_id = '123_'+aluno\n",
    "    else:\n",
    "        aluno_id = '789_'+aluno\n",
    "    ids.append(aluno_id)\n",
    "    \n",
    "ids"
   ]
  },
  {
   "cell_type": "code",
   "execution_count": 10,
   "id": "539256ee",
   "metadata": {},
   "outputs": [
    {
     "name": "stdout",
     "output_type": "stream",
     "text": [
      "Total de aprovados: 3\n",
      "Total de reprovados: 3\n"
     ]
    }
   ],
   "source": [
    "notas = [95, 85, 50, 55, 79, 35]\n",
    "reprovados = 0\n",
    "aprovados = 0\n",
    "\n",
    "for n in notas:\n",
    "    if n > 60:\n",
    "        aprovados += 1\n",
    "    else:\n",
    "        reprovados += 1\n",
    "    \n",
    "print(f'Total de aprovados: {aprovados}\\nTotal de reprovados: {reprovados}')"
   ]
  },
  {
   "cell_type": "code",
   "execution_count": 11,
   "id": "f078cdea",
   "metadata": {},
   "outputs": [
    {
     "data": {
      "text/html": [
       "<div>\n",
       "<style scoped>\n",
       "    .dataframe tbody tr th:only-of-type {\n",
       "        vertical-align: middle;\n",
       "    }\n",
       "\n",
       "    .dataframe tbody tr th {\n",
       "        vertical-align: top;\n",
       "    }\n",
       "\n",
       "    .dataframe thead th {\n",
       "        text-align: right;\n",
       "    }\n",
       "</style>\n",
       "<table border=\"1\" class=\"dataframe\">\n",
       "  <thead>\n",
       "    <tr style=\"text-align: right;\">\n",
       "      <th></th>\n",
       "      <th>Unnamed: 0</th>\n",
       "      <th>pclass</th>\n",
       "      <th>survived</th>\n",
       "      <th>sex</th>\n",
       "      <th>age</th>\n",
       "      <th>sibsp</th>\n",
       "      <th>parch</th>\n",
       "    </tr>\n",
       "  </thead>\n",
       "  <tbody>\n",
       "    <tr>\n",
       "      <th>0</th>\n",
       "      <td>1</td>\n",
       "      <td>1st</td>\n",
       "      <td>survived</td>\n",
       "      <td>female</td>\n",
       "      <td>29</td>\n",
       "      <td>0</td>\n",
       "      <td>0</td>\n",
       "    </tr>\n",
       "    <tr>\n",
       "      <th>1</th>\n",
       "      <td>2</td>\n",
       "      <td>1st</td>\n",
       "      <td>survived</td>\n",
       "      <td>male</td>\n",
       "      <td>0.916700006</td>\n",
       "      <td>1</td>\n",
       "      <td>2</td>\n",
       "    </tr>\n",
       "    <tr>\n",
       "      <th>2</th>\n",
       "      <td>3</td>\n",
       "      <td>1st</td>\n",
       "      <td>died</td>\n",
       "      <td>female</td>\n",
       "      <td>2</td>\n",
       "      <td>1</td>\n",
       "      <td>2</td>\n",
       "    </tr>\n",
       "    <tr>\n",
       "      <th>3</th>\n",
       "      <td>4</td>\n",
       "      <td>1st</td>\n",
       "      <td>died</td>\n",
       "      <td>male</td>\n",
       "      <td>30</td>\n",
       "      <td>1</td>\n",
       "      <td>2</td>\n",
       "    </tr>\n",
       "    <tr>\n",
       "      <th>4</th>\n",
       "      <td>5</td>\n",
       "      <td>1st</td>\n",
       "      <td>died</td>\n",
       "      <td>female</td>\n",
       "      <td>25</td>\n",
       "      <td>1</td>\n",
       "      <td>2</td>\n",
       "    </tr>\n",
       "  </tbody>\n",
       "</table>\n",
       "</div>"
      ],
      "text/plain": [
       "  Unnamed: 0 pclass  survived     sex          age sibsp parch\n",
       "0          1    1st  survived  female           29     0     0\n",
       "1          2    1st  survived    male  0.916700006     1     2\n",
       "2          3    1st      died  female            2     1     2\n",
       "3          4    1st      died    male           30     1     2\n",
       "4          5    1st      died  female           25     1     2"
      ]
     },
     "execution_count": 11,
     "metadata": {},
     "output_type": "execute_result"
    }
   ],
   "source": [
    "import pandas as pd\n",
    "import numpy as np\n",
    "\n",
    "\n",
    "titanic = pd.read_csv(\"titanic.csv\")\n",
    "titanic.head()"
   ]
  },
  {
   "cell_type": "code",
   "execution_count": 28,
   "id": "9a8a5795",
   "metadata": {},
   "outputs": [
    {
     "ename": "TypeError",
     "evalue": "'>' not supported between instances of 'str' and 'int'",
     "output_type": "error",
     "traceback": [
      "\u001b[1;31m---------------------------------------------------------------------------\u001b[0m",
      "\u001b[1;31mTypeError\u001b[0m                                 Traceback (most recent call last)",
      "Cell \u001b[1;32mIn[28], line 4\u001b[0m\n\u001b[0;32m      1\u001b[0m sexo_maior18  \u001b[38;5;241m=\u001b[39m []\n\u001b[0;32m      3\u001b[0m \u001b[38;5;28;01mfor\u001b[39;00m i \u001b[38;5;129;01min\u001b[39;00m \u001b[38;5;28mrange\u001b[39m(\u001b[38;5;28mlen\u001b[39m(titanic)):\n\u001b[1;32m----> 4\u001b[0m     \u001b[38;5;28;01mif\u001b[39;00m \u001b[43mtitanic\u001b[49m\u001b[38;5;241;43m.\u001b[39;49m\u001b[43mloc\u001b[49m\u001b[43m[\u001b[49m\u001b[43mi\u001b[49m\u001b[43m,\u001b[49m\u001b[38;5;124;43m'\u001b[39;49m\u001b[38;5;124;43mage\u001b[39;49m\u001b[38;5;124;43m'\u001b[39;49m\u001b[43m]\u001b[49m\u001b[38;5;241;43m>\u001b[39;49m\u001b[38;5;241;43m18\u001b[39;49m:\n\u001b[0;32m      5\u001b[0m         sexo_maior18 \u001b[38;5;241m=\u001b[39m sexo_maior18\u001b[38;5;241m.\u001b[39mappend(titanic\u001b[38;5;241m.\u001b[39mloc[i,\u001b[38;5;124m\"\u001b[39m\u001b[38;5;124msex\u001b[39m\u001b[38;5;124m\"\u001b[39m])\n\u001b[0;32m      6\u001b[0m sexo_maior18[\u001b[38;5;241m0\u001b[39m:\u001b[38;5;241m10\u001b[39m]\n",
      "\u001b[1;31mTypeError\u001b[0m: '>' not supported between instances of 'str' and 'int'"
     ]
    }
   ],
   "source": [
    "sexo_maior18  = []\n",
    "\n",
    "for i in range(len(titanic)):\n",
    "    if titanic.loc[i,'age']>18:\n",
    "        sexo_maior18 = sexo_maior18.append(titanic.loc[i,\"sex\"])\n",
    "sexo_maior18[0:10]"
   ]
  },
  {
   "cell_type": "code",
   "execution_count": 21,
   "id": "cf639f08",
   "metadata": {},
   "outputs": [
    {
     "name": "stdout",
     "output_type": "stream",
     "text": [
      "n\n",
      "l\n",
      "r\n",
      "x\n",
      "e\n",
      "b\n",
      "r\n"
     ]
    }
   ],
   "source": [
    "for i in titanic:\n",
    "    print(i[2])"
   ]
  },
  {
   "cell_type": "code",
   "execution_count": null,
   "id": "a42f416f",
   "metadata": {},
   "outputs": [],
   "source": []
  }
 ],
 "metadata": {
  "kernelspec": {
   "display_name": "Python 3 (ipykernel)",
   "language": "python",
   "name": "python3"
  },
  "language_info": {
   "codemirror_mode": {
    "name": "ipython",
    "version": 3
   },
   "file_extension": ".py",
   "mimetype": "text/x-python",
   "name": "python",
   "nbconvert_exporter": "python",
   "pygments_lexer": "ipython3",
   "version": "3.10.9"
  }
 },
 "nbformat": 4,
 "nbformat_minor": 5
}
