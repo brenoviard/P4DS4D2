{
 "cells": [
  {
   "cell_type": "code",
   "execution_count": 6,
   "id": "97d8b98c",
   "metadata": {},
   "outputs": [
    {
     "name": "stdout",
     "output_type": "stream",
     "text": [
      "Informe o tamanho da área: 285\n",
      "Comprando apenas latas de 18 litros, serão necessárias 3.00 que custarão R$ 240.00\n",
      "Comprando apenas galões de 3.6 litros, serão necessários 14.00 que custarão R$ 350.00\n",
      "Fazendo um mix de latas e galões, serão necessárias 3.00 latas e 14.00 galoes que irão custar R$  260.00\n"
     ]
    }
   ],
   "source": [
    "area = float(input(\"Informe o tamanho da área: \"))\n",
    "\n",
    "litros = area / 6\n",
    "\n",
    "latas = litros / 18\n",
    "galoes = litros / 3.6\n",
    "\n",
    "if latas % 18 != 0:\n",
    "    latas = int(latas) + 1\n",
    "if galoes % 3.6 != 0:\n",
    "    galoes = int(galoes) + 1\n",
    "\n",
    "preco_latas = latas * 80\n",
    "preco_galoes = galoes * 25\n",
    "\n",
    "\n",
    "mistura_lata = int(litros / 18)\n",
    "mistura_galao = int((litros -(mistura_lata * 18 )) / 3.6)\n",
    "\n",
    "if litros - (mistura_lata * 18) % 3.6 != 0:\n",
    "    mistura_galao += 1\n",
    "    \n",
    "print(f'Comprando apenas latas de 18 litros, serão necessárias {latas:.2f} que custarão R$ {preco_latas:.2f}')\n",
    "print(f'Comprando apenas galões de 3.6 litros, serão necessários {galoes:.2f} que custarão R$ {preco_galoes:.2f}')\n",
    "print(f'Fazendo um mix de latas e galões, serão necessárias {latas:.2f} latas e {galoes:.2f} galoes que irão custar R$  {(mistura_lata * 80 + mistura_galao * 25):.2f}')"
   ]
  },
  {
   "cell_type": "code",
   "execution_count": 18,
   "id": "f21a26ff",
   "metadata": {},
   "outputs": [
    {
     "name": "stdout",
     "output_type": "stream",
     "text": [
      "Informe o valor da hora trabalhada: 15\n",
      "Informe a quantidade de horas trabalhadas: 200\n",
      "Salario Bruto: (15.00 * 200) \t\t: R$ 3000.00\n",
      "(-) IR (20 %)\t\t\t\t: R$ 600.00\n",
      "(-) INSS(10%)\t\t\t\t: R$ 300.00\n",
      "(-) Sindicato (3%) \t\t\t\t: R$ 90.00\n",
      "FGTS (11%)\t\t\t\t: R$ 330.00\n",
      "Total de descontos \t\t\t\t\t: R$990.00\n",
      "Salario Líquido \t\t\t\t\t\t: R$ 2010.00\n"
     ]
    }
   ],
   "source": [
    "valor_hora = float(input(\"Informe o valor da hora trabalhada: \"))\n",
    "horas = int(input(\"Informe a quantidade de horas trabalhadas: \"))\n",
    "\n",
    "salario_bruto = valor_hora * horas\n",
    "\n",
    "if salario_bruto  <= 900:\n",
    "    aliq_ir = 0\n",
    "    #ir = salario_bruto * 0.05\n",
    "elif salario_bruto <= 1500:\n",
    "    aliq_ir = 5\n",
    "    #ir = salario_bruto * 0.10\n",
    "elif salario_bruto <= 2500:\n",
    "    aliq_ir = 10\n",
    "    #ir = salario_bruto * 0.20\n",
    "else:\n",
    "    aliq_ir = 20\n",
    "ir = (salario_bruto * aliq_ir) / 100\n",
    "inss = salario_bruto * 0.10\n",
    "sindicato = salario_bruto * 0.03\n",
    "fgts = salario_bruto * 0.11\n",
    "total_descontos = sindicato + inss + ir\n",
    "salario_liquido = salario_bruto - total_descontos\n",
    "print(f'Salario Bruto: ({(valor_hora):.2f} * {horas}) \\t\\t: R$ {(salario_bruto):.2f}')\n",
    "print(f'(-) IR ({aliq_ir} %)\\t\\t\\t\\t: R$ {(ir):.2f}')\n",
    "print(f'(-) INSS(10%)\\t\\t\\t\\t: R$ {(inss):.2f}')\n",
    "print(f'(-) Sindicato (3%) \\t\\t\\t\\t: R$ {(sindicato):.2f}')\n",
    "print(f'FGTS (11%)\\t\\t\\t\\t: R$ {(fgts):.2f}')\n",
    "print(f'Total de descontos \\t\\t\\t\\t\\t: R${(total_descontos):.2f}')\n",
    "print(f'Salario Líquido \\t\\t\\t\\t\\t\\t: R$ {(salario_liquido):.2f}')"
   ]
  },
  {
   "cell_type": "code",
   "execution_count": null,
   "id": "c632137c",
   "metadata": {},
   "outputs": [],
   "source": []
  },
  {
   "cell_type": "code",
   "execution_count": null,
   "id": "b2b80b3c",
   "metadata": {},
   "outputs": [],
   "source": []
  }
 ],
 "metadata": {
  "kernelspec": {
   "display_name": "Python 3 (ipykernel)",
   "language": "python",
   "name": "python3"
  },
  "language_info": {
   "codemirror_mode": {
    "name": "ipython",
    "version": 3
   },
   "file_extension": ".py",
   "mimetype": "text/x-python",
   "name": "python",
   "nbconvert_exporter": "python",
   "pygments_lexer": "ipython3",
   "version": "3.9.13"
  }
 },
 "nbformat": 4,
 "nbformat_minor": 5
}
