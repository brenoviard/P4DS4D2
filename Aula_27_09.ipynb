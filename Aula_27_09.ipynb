{
  "nbformat": 4,
  "nbformat_minor": 0,
  "metadata": {
    "colab": {
      "provenance": [],
      "authorship_tag": "ABX9TyOwhbDbTGYgPVcNo1TJvePb",
      "include_colab_link": true
    },
    "kernelspec": {
      "name": "python3",
      "display_name": "Python 3"
    },
    "language_info": {
      "name": "python"
    }
  },
  "cells": [
    {
      "cell_type": "markdown",
      "metadata": {
        "id": "view-in-github",
        "colab_type": "text"
      },
      "source": [
        "<a href=\"https://colab.research.google.com/github/brenoviard/P4DS4D2/blob/main/Aula_27_09.ipynb\" target=\"_parent\"><img src=\"https://colab.research.google.com/assets/colab-badge.svg\" alt=\"Open In Colab\"/></a>"
      ]
    },
    {
      "cell_type": "markdown",
      "source": [
        "1. Infome um número entre 0 e 10. Caso o número esteja dentro do intervalo, imprima o número digitado, caso contrário, peça que seja inserido outro número."
      ],
      "metadata": {
        "id": "2kWtZ7o77OOm"
      }
    },
    {
      "cell_type": "code",
      "execution_count": 2,
      "metadata": {
        "colab": {
          "base_uri": "https://localhost:8080/"
        },
        "id": "n4yeWIG_6ubD",
        "outputId": "87485fb8-69b9-4063-95cc-7a7b7d82ff15"
      },
      "outputs": [
        {
          "output_type": "stream",
          "name": "stdout",
          "text": [
            "Digiete um número entre 0 e 10: 0\n",
            "Digiete um número entre 0 e 10: 10\n",
            "Digiete um número entre 0 e 10: 50\n",
            "Digiete um número entre 0 e 10: -0100\n",
            "Digiete um número entre 0 e 10: 9\n",
            "9\n"
          ]
        }
      ],
      "source": [
        "while True:\n",
        "  num = int(input('Digiete um número entre 0 e 10: '))\n",
        "  if num > 0 and num <10:\n",
        "    print(num)\n",
        "    break\n"
      ]
    },
    {
      "cell_type": "markdown",
      "source": [
        "2. Faça um programa que cadastre um nome de usuário e uma senha, em seguida peça para confirmar a senha e selas forem iguais mostre uma mensagem informando que a senha não confere e repta até que seja igual mostrando no final uma mensagem de senha cadastrada."
      ],
      "metadata": {
        "id": "4r4hScJ8As7K"
      }
    },
    {
      "cell_type": "code",
      "source": [
        "user = str(input('Insira o usuário: '))\n",
        "password = str(input('Insira a senha: '))\n",
        "conf_password =  str(input('Confirme a senha: '))\n",
        "while password != conf_password:\n",
        "  print('As senha não conferem!')\n",
        "  conf_password =  str(input('Confirme a senha: '))\n",
        "print('Senha cadastrada com sucesso!')"
      ],
      "metadata": {
        "colab": {
          "base_uri": "https://localhost:8080/"
        },
        "id": "B1VB9rN_BH5x",
        "outputId": "cad28a6e-858f-4c94-fec7-8b63ef0c7619"
      },
      "execution_count": 4,
      "outputs": [
        {
          "output_type": "stream",
          "name": "stdout",
          "text": [
            "Insira o usuário: admin\n",
            "Insira a senha: 318558.\n",
            "Confirme a senha: 318558.\n",
            "Senha cadastrada com sucesso!\n"
          ]
        }
      ]
    },
    {
      "cell_type": "markdown",
      "source": [
        "3. leia um program que leia 5 números e informe o maior número"
      ],
      "metadata": {
        "id": "8MdXFhfYFg4m"
      }
    },
    {
      "cell_type": "code",
      "source": [
        "for i in range(5):\n",
        "  num = int(input('Digite um número: '))\n",
        "  if i == 0:\n",
        "    maior = num\n",
        "  else:\n",
        "    if num > maior:\n",
        "      maior = num\n",
        "print(maior)"
      ],
      "metadata": {
        "colab": {
          "base_uri": "https://localhost:8080/"
        },
        "id": "8yOnvKqWFnjI",
        "outputId": "e451f242-44d0-4256-c286-a5455d6aa2ca"
      },
      "execution_count": 8,
      "outputs": [
        {
          "output_type": "stream",
          "name": "stdout",
          "text": [
            "Digite um número: 50\n",
            "Digite um número: 3\n",
            "Digite um número: 2\n",
            "Digite um número: 10\n",
            "Digite um número: 1\n",
            "50\n"
          ]
        }
      ]
    },
    {
      "cell_type": "markdown",
      "source": [
        "4. Crie um programa que solicita ao usuário insira um número inteiro posito, caso contrário repita até que o número seja inteiro e positivo.Em seguida imprima uma contagem regressiva até zero desse número."
      ],
      "metadata": {
        "id": "iOEyG6uhNISR"
      }
    },
    {
      "cell_type": "code",
      "source": [
        "num = int(input('Digite um número inteiro e positivo: '))\n",
        "while num < 1:\n",
        "  print('Número fora dos requisitos necessário!')\n",
        "  num = int(input('Digite um número inteiro e positivo: '))\n",
        "\n",
        "for i in range(num, 0,-1):\n",
        "  print(i)\n",
        "print('FIM!')"
      ],
      "metadata": {
        "colab": {
          "base_uri": "https://localhost:8080/"
        },
        "id": "_DlBEEgOHyYd",
        "outputId": "08a1818a-e84c-4313-a19f-b9fefbcd7d62"
      },
      "execution_count": 27,
      "outputs": [
        {
          "output_type": "stream",
          "name": "stdout",
          "text": [
            "Digite um número inteiro e positivo: 10\n",
            "10\n",
            "9\n",
            "8\n",
            "7\n",
            "6\n",
            "5\n",
            "4\n",
            "3\n",
            "2\n",
            "1\n",
            "FIM!\n"
          ]
        }
      ]
    }
  ]
}