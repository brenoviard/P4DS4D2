{
 "cells": [
  {
   "cell_type": "markdown",
   "id": "fa31e4d3",
   "metadata": {},
   "source": [
    "## String, Int e Float"
   ]
  },
  {
   "cell_type": "code",
   "execution_count": 5,
   "id": "3911f759",
   "metadata": {},
   "outputs": [
    {
     "name": "stdout",
     "output_type": "stream",
     "text": [
      "<class 'str'>\n",
      "<class 'str'>\n",
      "<class 'int'>\n",
      "<class 'float'>\n"
     ]
    }
   ],
   "source": [
    "tipos = ['string',\"string\",2,2.2]\n",
    "\n",
    "for i in tipos:\n",
    "    print(type(i))"
   ]
  },
  {
   "cell_type": "markdown",
   "id": "448850df",
   "metadata": {},
   "source": [
    "## Conjunto de Elementos"
   ]
  },
  {
   "cell_type": "code",
   "execution_count": 6,
   "id": "e0936a2f",
   "metadata": {},
   "outputs": [
    {
     "name": "stdout",
     "output_type": "stream",
     "text": [
      "<class 'tuple'> <class 'list'>\n"
     ]
    }
   ],
   "source": [
    "#cria um objeto\n",
    "tupla = (100,200,300) #imutável\n",
    "lista = [100,200,300] #mutável\n",
    "\n",
    "print(type(tupla),type(lista))"
   ]
  },
  {
   "cell_type": "code",
   "execution_count": 7,
   "id": "6b8386e7",
   "metadata": {},
   "outputs": [
    {
     "ename": "AttributeError",
     "evalue": "'tuple' object has no attribute 'append'",
     "output_type": "error",
     "traceback": [
      "\u001b[1;31m---------------------------------------------------------------------------\u001b[0m",
      "\u001b[1;31mAttributeError\u001b[0m                            Traceback (most recent call last)",
      "Cell \u001b[1;32mIn[7], line 1\u001b[0m\n\u001b[1;32m----> 1\u001b[0m \u001b[43mtupla\u001b[49m\u001b[38;5;241;43m.\u001b[39;49m\u001b[43mappend\u001b[49m(\u001b[38;5;241m400\u001b[39m)\n",
      "\u001b[1;31mAttributeError\u001b[0m: 'tuple' object has no attribute 'append'"
     ]
    }
   ],
   "source": [
    "tupla.append(400)\n"
   ]
  },
  {
   "cell_type": "code",
   "execution_count": 8,
   "id": "2a859437",
   "metadata": {},
   "outputs": [
    {
     "name": "stdout",
     "output_type": "stream",
     "text": [
      "(100, 200, 300) [100, 200, 300, 400]\n"
     ]
    }
   ],
   "source": [
    "lista.append(400)\n",
    "print(tupla, lista)"
   ]
  },
  {
   "cell_type": "markdown",
   "id": "f909773f",
   "metadata": {},
   "source": [
    "Para acessar elementos de tuplas e listas, devemos indicar o nome do conjunto e a posição do elemento deve estar entre colchetes"
   ]
  },
  {
   "cell_type": "code",
   "execution_count": 11,
   "id": "6dfdb173",
   "metadata": {},
   "outputs": [
    {
     "name": "stdout",
     "output_type": "stream",
     "text": [
      "elemento tupla: 300, elemento lista: 200\n"
     ]
    }
   ],
   "source": [
    "print(f'elemento tupla: {tupla[2]}, elemento lista: {lista[1]}')"
   ]
  },
  {
   "cell_type": "markdown",
   "id": "f6a97f93",
   "metadata": {},
   "source": [
    "Em listas podemos alterar os elementos:"
   ]
  },
  {
   "cell_type": "code",
   "execution_count": 16,
   "id": "2dc418a5",
   "metadata": {},
   "outputs": [
    {
     "name": "stdout",
     "output_type": "stream",
     "text": [
      "0\n",
      "novo valor na posição 0: 0\n"
     ]
    }
   ],
   "source": [
    "\n",
    "lista[0] = 0\n",
    "print(f'novo valor na posição 0: {lista[0]}')"
   ]
  },
  {
   "cell_type": "markdown",
   "id": "10ac1b11",
   "metadata": {},
   "source": [
    "## Sets e Dicionarios"
   ]
  },
  {
   "cell_type": "markdown",
   "id": "1f48c11f",
   "metadata": {},
   "source": [
    "Set é um conjunto sem ordenação e indexação e é escrito entre chaves"
   ]
  },
  {
   "cell_type": "code",
   "execution_count": 19,
   "id": "c3f239ae",
   "metadata": {},
   "outputs": [],
   "source": [
    "exemplo_set = {'casa','bola','gato'}\n",
    "exemplo_set2 = {1,2,3}"
   ]
  },
  {
   "cell_type": "markdown",
   "id": "222ae3f3",
   "metadata": {},
   "source": [
    "Por não ser indexado, não é possível acessar os elementos do conjunto da mesma forma que é feito com as listas/tuplas.\n",
    "para isso usa-se o print in\n",
    "\n"
   ]
  },
  {
   "cell_type": "code",
   "execution_count": 21,
   "id": "75002d9a",
   "metadata": {},
   "outputs": [
    {
     "name": "stdout",
     "output_type": "stream",
     "text": [
      "False\n"
     ]
    }
   ],
   "source": [
    "print(3 in exemplo_set)"
   ]
  },
  {
   "cell_type": "markdown",
   "id": "43f52ac0",
   "metadata": {},
   "source": [
    "Não permite alteração de elementos e para adicionar usamos o add"
   ]
  },
  {
   "cell_type": "code",
   "execution_count": 23,
   "id": "52ad5bfe",
   "metadata": {},
   "outputs": [
    {
     "data": {
      "text/plain": [
       "{'bola', 'casa', 'gato', 'prédio'}"
      ]
     },
     "execution_count": 23,
     "metadata": {},
     "output_type": "execute_result"
    }
   ],
   "source": [
    "exemplo_set.add('prédio')\n",
    "exemplo_set"
   ]
  },
  {
   "cell_type": "markdown",
   "id": "fc624920",
   "metadata": {},
   "source": [
    "Dicionários são semelhantes aos set, porém eles permitem alterações. Também são escritos entre {}\n",
    "mas necessitam de chaves de identificação e os valores referentes a cada chave"
   ]
  },
  {
   "cell_type": "code",
   "execution_count": 24,
   "id": "fdea85f5",
   "metadata": {},
   "outputs": [],
   "source": [
    "dic = {\n",
    "    'nome': 'breno',\n",
    "    'cargo': 'assistene',\n",
    "    'id': 5016568\n",
    "}"
   ]
  },
  {
   "cell_type": "markdown",
   "id": "30c5b2fa",
   "metadata": {},
   "source": [
    "Para acessar algum elemento, devemos passar a chave de identificação"
   ]
  },
  {
   "cell_type": "code",
   "execution_count": 26,
   "id": "5a7f3657",
   "metadata": {},
   "outputs": [
    {
     "data": {
      "text/plain": [
       "5016568"
      ]
     },
     "execution_count": 26,
     "metadata": {},
     "output_type": "execute_result"
    }
   ],
   "source": [
    "dic['id']"
   ]
  },
  {
   "cell_type": "code",
   "execution_count": null,
   "id": "b3624796",
   "metadata": {},
   "outputs": [],
   "source": []
  }
 ],
 "metadata": {
  "kernelspec": {
   "display_name": "Python 3 (ipykernel)",
   "language": "python",
   "name": "python3"
  },
  "language_info": {
   "codemirror_mode": {
    "name": "ipython",
    "version": 3
   },
   "file_extension": ".py",
   "mimetype": "text/x-python",
   "name": "python",
   "nbconvert_exporter": "python",
   "pygments_lexer": "ipython3",
   "version": "3.10.9"
  }
 },
 "nbformat": 4,
 "nbformat_minor": 5
}
