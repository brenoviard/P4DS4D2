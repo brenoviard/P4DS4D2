{
 "cells": [
  {
   "cell_type": "code",
   "execution_count": 1,
   "id": "035ab451",
   "metadata": {},
   "outputs": [
    {
     "data": {
      "text/plain": [
       "16"
      ]
     },
     "execution_count": 1,
     "metadata": {},
     "output_type": "execute_result"
    }
   ],
   "source": [
    "#quadrado\n",
    "def f(x):\n",
    "    return x**2\n",
    "f(4)"
   ]
  },
  {
   "cell_type": "code",
   "execution_count": null,
   "id": "0a9ad72f",
   "metadata": {},
   "outputs": [],
   "source": [
    "#derivada\n",
    "def derivada(x):\n",
    "    h=1./1000\n",
    "    rise = f(x+h)-f(x)\n",
    "    run = h\n",
    "    slope = rise/run\n",
    "    re"
   ]
  }
 ],
 "metadata": {
  "kernelspec": {
   "display_name": "Python 3 (ipykernel)",
   "language": "python",
   "name": "python3"
  },
  "language_info": {
   "codemirror_mode": {
    "name": "ipython",
    "version": 3
   },
   "file_extension": ".py",
   "mimetype": "text/x-python",
   "name": "python",
   "nbconvert_exporter": "python",
   "pygments_lexer": "ipython3",
   "version": "3.10.9"
  }
 },
 "nbformat": 4,
 "nbformat_minor": 5
}
