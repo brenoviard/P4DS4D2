{
 "cells": [
  {
   "cell_type": "markdown",
   "id": "82ed93dc",
   "metadata": {},
   "source": [
    "While"
   ]
  },
  {
   "cell_type": "code",
   "execution_count": 2,
   "id": "fe9de27e",
   "metadata": {},
   "outputs": [
    {
     "name": "stdout",
     "output_type": "stream",
     "text": [
      "1\n",
      "2\n",
      "3\n",
      "4\n",
      "5\n",
      "a condição já não é mais atendida\n",
      "[0, 0, 0, 0, 1]\n"
     ]
    }
   ],
   "source": [
    "n = 1\n",
    "lista_quocientes = []\n",
    "\n",
    "while n < 6:\n",
    "    lista_quocientes.append(int(n/5))\n",
    "    print(n)\n",
    "    n+=1\n",
    "else:\n",
    "    print('a condição já não é mais atendida')\n",
    "print(lista_quocientes)"
   ]
  },
  {
   "cell_type": "markdown",
   "id": "d9ca5cc5",
   "metadata": {},
   "source": [
    "For"
   ]
  },
  {
   "cell_type": "code",
   "execution_count": 4,
   "id": "b5b22b7e",
   "metadata": {},
   "outputs": [
    {
     "data": {
      "text/plain": [
       "['a', 'b', 'p', 'r']"
      ]
     },
     "execution_count": 4,
     "metadata": {},
     "output_type": "execute_result"
    }
   ],
   "source": [
    "nomes = ['adriana','bruno','pedro','rosa']\n",
    "iniciais = []\n",
    "\n",
    "for i in nomes:\n",
    "    iniciais.append(i[0])\n",
    "    \n",
    "iniciais"
   ]
  },
  {
   "cell_type": "markdown",
   "id": "0f0e71c9",
   "metadata": {},
   "source": [
    "Conversor de decimal de binário"
   ]
  },
  {
   "cell_type": "code",
   "execution_count": 8,
   "id": "a1c53475",
   "metadata": {},
   "outputs": [
    {
     "data": {
      "text/plain": [
       "1"
      ]
     },
     "execution_count": 8,
     "metadata": {},
     "output_type": "execute_result"
    }
   ],
   "source": [
    "def decimal_para_binario(x):\n",
    "    return int(bin(x)[2:])\n",
    "decimal_para_binario(1)"
   ]
  },
  {
   "cell_type": "code",
   "execution_count": 12,
   "id": "a6183c8b",
   "metadata": {},
   "outputs": [
    {
     "ename": "NameError",
     "evalue": "name 'binario' is not defined",
     "output_type": "error",
     "traceback": [
      "\u001b[1;31m---------------------------------------------------------------------------\u001b[0m",
      "\u001b[1;31mNameError\u001b[0m                                 Traceback (most recent call last)",
      "Cell \u001b[1;32mIn[12], line 14\u001b[0m\n\u001b[0;32m     12\u001b[0m         numero_binario \u001b[38;5;241m=\u001b[39m binario\u001b[38;5;241m+\u001b[39m\u001b[38;5;28mstr\u001b[39m(j)\n\u001b[0;32m     13\u001b[0m     \u001b[38;5;28;01mreturn\u001b[39;00m numero_binario\n\u001b[1;32m---> 14\u001b[0m \u001b[43mdecimal_binario\u001b[49m\u001b[43m(\u001b[49m\u001b[38;5;241;43m25\u001b[39;49m\u001b[43m)\u001b[49m\n",
      "Cell \u001b[1;32mIn[12], line 12\u001b[0m, in \u001b[0;36mdecimal_binario\u001b[1;34m(x)\u001b[0m\n\u001b[0;32m      9\u001b[0m numero_binario \u001b[38;5;241m=\u001b[39m \u001b[38;5;124m'\u001b[39m\u001b[38;5;124m'\u001b[39m\n\u001b[0;32m     11\u001b[0m \u001b[38;5;28;01mfor\u001b[39;00m j \u001b[38;5;129;01min\u001b[39;00m lista_restos[::\u001b[38;5;241m-\u001b[39m\u001b[38;5;241m1\u001b[39m]:\n\u001b[1;32m---> 12\u001b[0m     numero_binario \u001b[38;5;241m=\u001b[39m \u001b[43mbinario\u001b[49m\u001b[38;5;241m+\u001b[39m\u001b[38;5;28mstr\u001b[39m(j)\n\u001b[0;32m     13\u001b[0m \u001b[38;5;28;01mreturn\u001b[39;00m numero_binario\n",
      "\u001b[1;31mNameError\u001b[0m: name 'binario' is not defined"
     ]
    }
   ],
   "source": [
    "def decimal_binario(x):\n",
    "    #criação da lista\n",
    "    lista_restos = []\n",
    "    \n",
    "    while(x>0):\n",
    "        resto = float(x%2)\n",
    "        lista_restos.append(int(resto))\n",
    "        x = int(x/2)\n",
    "    numero_binario = ''\n",
    "    \n",
    "    for j in lista_restos[::-1]:\n",
    "        numero_binario = binario+str(j)\n",
    "    return numero_binario\n",
    "decimal_binario(25)"
   ]
  },
  {
   "cell_type": "code",
   "execution_count": null,
   "id": "501052eb",
   "metadata": {},
   "outputs": [],
   "source": []
  }
 ],
 "metadata": {
  "kernelspec": {
   "display_name": "Python 3 (ipykernel)",
   "language": "python",
   "name": "python3"
  },
  "language_info": {
   "codemirror_mode": {
    "name": "ipython",
    "version": 3
   },
   "file_extension": ".py",
   "mimetype": "text/x-python",
   "name": "python",
   "nbconvert_exporter": "python",
   "pygments_lexer": "ipython3",
   "version": "3.10.9"
  }
 },
 "nbformat": 4,
 "nbformat_minor": 5
}
