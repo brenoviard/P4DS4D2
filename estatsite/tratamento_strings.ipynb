{
 "cells": [
  {
   "cell_type": "markdown",
   "id": "18b1692b",
   "metadata": {},
   "source": [
    "## Básico"
   ]
  },
  {
   "cell_type": "code",
   "execution_count": 3,
   "id": "a22c8bbb",
   "metadata": {},
   "outputs": [
    {
     "name": "stdout",
     "output_type": "stream",
     "text": [
      "testando strings\n",
      "TESTANDO STRINGS\n"
     ]
    },
    {
     "data": {
      "text/plain": [
       "False"
      ]
     },
     "execution_count": 3,
     "metadata": {},
     "output_type": "execute_result"
    }
   ],
   "source": [
    "texto = 'Testando strings'\n",
    "\n",
    "print(texto.lower())\n",
    "print(texto.upper())\n",
    "\n",
    "texto.isupper()\n",
    "texto.islower()"
   ]
  },
  {
   "cell_type": "code",
   "execution_count": 4,
   "id": "cb440081",
   "metadata": {},
   "outputs": [
    {
     "data": {
      "text/plain": [
       "True"
      ]
     },
     "execution_count": 4,
     "metadata": {},
     "output_type": "execute_result"
    }
   ],
   "source": [
    "texto[0].isupper()"
   ]
  },
  {
   "cell_type": "code",
   "execution_count": 5,
   "id": "707e1139",
   "metadata": {},
   "outputs": [
    {
     "data": {
      "text/plain": [
       "'est'"
      ]
     },
     "execution_count": 5,
     "metadata": {},
     "output_type": "execute_result"
    }
   ],
   "source": [
    "texto[1:4]"
   ]
  },
  {
   "cell_type": "code",
   "execution_count": 6,
   "id": "ab8e4632",
   "metadata": {},
   "outputs": [
    {
     "data": {
      "text/plain": [
       "'s'"
      ]
     },
     "execution_count": 6,
     "metadata": {},
     "output_type": "execute_result"
    }
   ],
   "source": [
    "texto[-1]"
   ]
  },
  {
   "cell_type": "code",
   "execution_count": 7,
   "id": "b9df61b6",
   "metadata": {},
   "outputs": [
    {
     "data": {
      "text/plain": [
       "'aabbccdd'"
      ]
     },
     "execution_count": 7,
     "metadata": {},
     "output_type": "execute_result"
    }
   ],
   "source": [
    "var1 ='aabb'\n",
    "var2 = 'ccdd'\n",
    "var1+var2"
   ]
  },
  {
   "cell_type": "code",
   "execution_count": 9,
   "id": "8ffac9b4",
   "metadata": {},
   "outputs": [
    {
     "data": {
      "text/plain": [
       "False"
      ]
     },
     "execution_count": 9,
     "metadata": {},
     "output_type": "execute_result"
    }
   ],
   "source": [
    "texto ='hello world'\n",
    "\n",
    "'ello' in texto\n",
    "\n",
    "'ello' not in texto"
   ]
  },
  {
   "cell_type": "code",
   "execution_count": null,
   "id": "aabf96dc",
   "metadata": {},
   "outputs": [],
   "source": []
  }
 ],
 "metadata": {
  "kernelspec": {
   "display_name": "Python 3 (ipykernel)",
   "language": "python",
   "name": "python3"
  },
  "language_info": {
   "codemirror_mode": {
    "name": "ipython",
    "version": 3
   },
   "file_extension": ".py",
   "mimetype": "text/x-python",
   "name": "python",
   "nbconvert_exporter": "python",
   "pygments_lexer": "ipython3",
   "version": "3.10.9"
  }
 },
 "nbformat": 4,
 "nbformat_minor": 5
}
