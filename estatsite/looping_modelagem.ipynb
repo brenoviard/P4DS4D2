{
 "cells": [
  {
   "cell_type": "code",
   "execution_count": 2,
   "id": "79aac8f6",
   "metadata": {},
   "outputs": [
    {
     "name": "stdout",
     "output_type": "stream",
     "text": [
      "1.0\n",
      "1.4444444444444444\n",
      "1.8888888888888888\n",
      "2.333333333333333\n",
      "2.7777777777777777\n",
      "3.2222222222222223\n",
      "3.6666666666666665\n",
      "4.111111111111111\n",
      "4.555555555555555\n",
      "5.0\n"
     ]
    }
   ],
   "source": [
    "import numpy as np# o for itera sobre uma lista de elementos\n",
    "\n",
    "for i in np.linspace(1,5,10):#lnspace retorna 10 valores dentro do intervado sugerido (1 a 5)\n",
    "    # o for nesse caso esta iterando valores dentro do intervalo\n",
    "    print(i)"
   ]
  },
  {
   "cell_type": "code",
   "execution_count": 3,
   "id": "531763be",
   "metadata": {},
   "outputs": [
    {
     "name": "stdout",
     "output_type": "stream",
     "text": [
      "andre\n",
      "bruna\n",
      "carlos\n"
     ]
    }
   ],
   "source": [
    "for i in ['andre','bruna','carlos']:\n",
    "    print(i)"
   ]
  },
  {
   "cell_type": "code",
   "execution_count": 4,
   "id": "d3c585fa",
   "metadata": {},
   "outputs": [
    {
     "name": "stdout",
     "output_type": "stream",
     "text": [
      "0\n",
      "1\n",
      "2\n",
      "3\n",
      "4\n",
      "5\n",
      "6\n",
      "7\n",
      "8\n",
      "9\n"
     ]
    }
   ],
   "source": [
    "for i in range(10):\n",
    "    print(i)"
   ]
  },
  {
   "cell_type": "code",
   "execution_count": 5,
   "id": "b852225f",
   "metadata": {},
   "outputs": [
    {
     "name": "stdout",
     "output_type": "stream",
     "text": [
      "0\n",
      "1\n",
      "4\n",
      "9\n"
     ]
    }
   ],
   "source": [
    "for n in range(10):\n",
    "    resultado = n ** 2\n",
    "    \n",
    "    if resultado == 16:\n",
    "        break\n",
    "    print(resultado)\n",
    "        "
   ]
  },
  {
   "cell_type": "code",
   "execution_count": 6,
   "id": "297bb6b4",
   "metadata": {},
   "outputs": [
    {
     "name": "stdout",
     "output_type": "stream",
     "text": [
      "0\n",
      "1\n",
      "2\n",
      "3\n",
      "4\n",
      "5\n",
      "6\n",
      "7\n",
      "8\n",
      "9\n"
     ]
    }
   ],
   "source": [
    "for i in range(10):\n",
    "    print(i)\n",
    "    if n == 5:\n",
    "        break"
   ]
  },
  {
   "cell_type": "code",
   "execution_count": 7,
   "id": "eddbdf8e",
   "metadata": {},
   "outputs": [
    {
     "name": "stdout",
     "output_type": "stream",
     "text": [
      "Done.\n",
      "Done.\n"
     ]
    }
   ],
   "source": [
    "for i in ['foo','baz','bar','qux']:\n",
    "    if i == 'bar':\n",
    "        break\n",
    "        print(i)\n",
    "    else:\n",
    "        print('Done.')"
   ]
  },
  {
   "cell_type": "code",
   "execution_count": null,
   "id": "3a8c838e",
   "metadata": {},
   "outputs": [],
   "source": [
    "encoder_list = [\n",
    "    ce.cat_boost.Encoder\n",
    "]"
   ]
  }
 ],
 "metadata": {
  "kernelspec": {
   "display_name": "Python 3 (ipykernel)",
   "language": "python",
   "name": "python3"
  },
  "language_info": {
   "codemirror_mode": {
    "name": "ipython",
    "version": 3
   },
   "file_extension": ".py",
   "mimetype": "text/x-python",
   "name": "python",
   "nbconvert_exporter": "python",
   "pygments_lexer": "ipython3",
   "version": "3.10.9"
  }
 },
 "nbformat": 4,
 "nbformat_minor": 5
}
