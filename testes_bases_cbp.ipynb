{
 "cells": [
  {
   "cell_type": "code",
   "execution_count": 1,
   "id": "b915c4f9",
   "metadata": {},
   "outputs": [],
   "source": [
    "import pandas as pd"
   ]
  },
  {
   "cell_type": "code",
   "execution_count": 22,
   "id": "f4a47b04",
   "metadata": {},
   "outputs": [],
   "source": [
    "df = pd.read_csv('posicao_cbp.csv',sep=';')"
   ]
  },
  {
   "cell_type": "code",
   "execution_count": 23,
   "id": "9849862c",
   "metadata": {},
   "outputs": [
    {
     "data": {
      "text/plain": [
       "Index(['DATA_POSICAO', 'NM_PESSOA', 'CPF', 'NR_CONTA_CARTAO', 'TP_CARTEIRA',\n",
       "       'TP_OPERACAO', 'CD_CLASSIFICACAO', 'DATA_VENCIMENTO',\n",
       "       'VL_CBP_MODALIDADE_0218', 'VL_CBP_MODALIDADE_0210',\n",
       "       'VL_CBP_MODALIDADE_0204', 'VL_CBP_MODALIDADE_1304', 'VL_PROVISAO',\n",
       "       'VL_SALDO_ENCARGO_APROPRIAR', 'VL_OPERACAO', 'TIPO_PESSOA',\n",
       "       'GARANTIA_REAL', 'COBRANÇA', 'Unnamed: 18'],\n",
       "      dtype='object')"
      ]
     },
     "execution_count": 23,
     "metadata": {},
     "output_type": "execute_result"
    }
   ],
   "source": [
    "df.columns"
   ]
  },
  {
   "cell_type": "code",
   "execution_count": 24,
   "id": "73faaa62",
   "metadata": {},
   "outputs": [
    {
     "data": {
      "text/plain": [
       "<bound method DataFrame.info of       DATA_POSICAO                                          NM_PESSOA  \\\n",
       "0       31/03/2023  PAULO ALBERTO DE SOUZA ANDRADE                ...   \n",
       "1       31/03/2023  MERCIA DE SOUZA SILVA                         ...   \n",
       "2       31/03/2023  DAIANE DE LIMA SANTANA                        ...   \n",
       "3       31/03/2023  GRACILIANO FRANCISCO DOS SANTOS FILHO         ...   \n",
       "4       31/03/2023  CLAUDEMIR DOS SANTOS                          ...   \n",
       "...            ...                                                ...   \n",
       "22762   31/03/2023  MARIA SANDRA DOS SANTOS CONCEICAO             ...   \n",
       "22763   31/03/2023  OSVALDINA SOUZA SANTOS                        ...   \n",
       "22764   31/03/2023  DENIS RIVA SANTOS LEITE                       ...   \n",
       "22765   31/03/2023  ELIZABETE DE SOUZA NERI                       ...   \n",
       "22766   31/03/2023  GILMAR DOS SANTOS FERREIRA                    ...   \n",
       "\n",
       "               CPF  NR_CONTA_CARTAO TP_CARTEIRA TP_OPERACAO CD_CLASSIFICACAO  \\\n",
       "0          2116561      20010370705          PB           P               CC   \n",
       "1          3289443    2002012347283          PB           N               CC   \n",
       "2          6723195     210010054270          PB           N               CC   \n",
       "3          9157859    2002010128789          PB           N               CC   \n",
       "4         12651567    2002012714006          PB           N               CC   \n",
       "...            ...              ...         ...         ...              ...   \n",
       "22762  99978628568    2002013209780          PB           N               CC   \n",
       "22763  99980185520    2002013588195          PB           N               CC   \n",
       "22764  99992710578     140018260932          PB           N               CC   \n",
       "22765  99995743515    2002010664222          PB           N               CC   \n",
       "22766  99999498515    2002010097050          PB           N               CC   \n",
       "\n",
       "      DATA_VENCIMENTO VL_CBP_MODALIDADE_0218 VL_CBP_MODALIDADE_0210  \\\n",
       "0          10/03/2022                2941,71                   0,00   \n",
       "1          20/09/2019                1937,91                   0,00   \n",
       "2          05/10/2021                4559,38                4323,44   \n",
       "3          20/05/2021                2355,07                  65,20   \n",
       "4          15/01/2020                4510,48                   0,00   \n",
       "...               ...                    ...                    ...   \n",
       "22762      10/10/2016                1155,17                3003,23   \n",
       "22763      05/01/2018                 971,38                 591,78   \n",
       "22764      15/02/2020                1285,98                   0,00   \n",
       "22765      10/10/2017                2594,44                   0,00   \n",
       "22766      10/12/2017                7618,95                   0,00   \n",
       "\n",
       "      VL_CBP_MODALIDADE_0204 VL_CBP_MODALIDADE_1304 VL_PROVISAO  \\\n",
       "0                       0,00                   0,00     2941,71   \n",
       "1                       0,00                   0,00     1937,91   \n",
       "2                       0,00                   0,00     8882,82   \n",
       "3                       0,00                   0,00     2420,27   \n",
       "4                       0,00                   0,00     4510,48   \n",
       "...                      ...                    ...         ...   \n",
       "22762                   0,00                   0,00     4158,40   \n",
       "22763                   0,00                   0,00     1563,16   \n",
       "22764                   0,00                   0,00     1285,98   \n",
       "22765                   0,00                   0,00     2594,44   \n",
       "22766                   0,00                   0,00     7618,95   \n",
       "\n",
       "      VL_SALDO_ENCARGO_APROPRIAR VL_OPERACAO TIPO_PESSOA GARANTIA_REAL  \\\n",
       "0                           0,00     2941,71           F    NAO POSSUI   \n",
       "1                        1173,58     3111,49           F    NAO POSSUI   \n",
       "2                        7203,74    16086,56           F    NAO POSSUI   \n",
       "3                           0,00     2420,27           F    NAO POSSUI   \n",
       "4                        2436,63     6947,11           F    NAO POSSUI   \n",
       "...                          ...         ...         ...           ...   \n",
       "22762                   30028,27    34186,67           F    NAO POSSUI   \n",
       "22763                     181,65     1744,81           F    NAO POSSUI   \n",
       "22764                     520,99     1806,97           F    NAO POSSUI   \n",
       "22765                    1436,71     4031,15           F    NAO POSSUI   \n",
       "22766                    5166,16    12785,11           F    NAO POSSUI   \n",
       "\n",
       "             COBRANÇA  Unnamed: 18  \n",
       "0      ADMINISTRATIVA          NaN  \n",
       "1      ADMINISTRATIVA          NaN  \n",
       "2      ADMINISTRATIVA          NaN  \n",
       "3      ADMINISTRATIVA          NaN  \n",
       "4      ADMINISTRATIVA          NaN  \n",
       "...               ...          ...  \n",
       "22762  ADMINISTRATIVA          NaN  \n",
       "22763  ADMINISTRATIVA          NaN  \n",
       "22764  ADMINISTRATIVA          NaN  \n",
       "22765  ADMINISTRATIVA          NaN  \n",
       "22766  ADMINISTRATIVA          NaN  \n",
       "\n",
       "[22767 rows x 19 columns]>"
      ]
     },
     "execution_count": 24,
     "metadata": {},
     "output_type": "execute_result"
    }
   ],
   "source": [
    "df.info"
   ]
  },
  {
   "cell_type": "code",
   "execution_count": 26,
   "id": "c70d6df4",
   "metadata": {},
   "outputs": [],
   "source": [
    "df2 = df.iloc[0:100]"
   ]
  },
  {
   "cell_type": "code",
   "execution_count": 27,
   "id": "cd3ecb60",
   "metadata": {},
   "outputs": [
    {
     "data": {
      "text/plain": [
       "DATA_POSICAO                    0\n",
       "NM_PESSOA                       0\n",
       "CPF                             0\n",
       "NR_CONTA_CARTAO                 0\n",
       "TP_CARTEIRA                     0\n",
       "TP_OPERACAO                     0\n",
       "CD_CLASSIFICACAO                0\n",
       "DATA_VENCIMENTO                 1\n",
       "VL_CBP_MODALIDADE_0218          0\n",
       "VL_CBP_MODALIDADE_0210          0\n",
       "VL_CBP_MODALIDADE_0204          0\n",
       "VL_CBP_MODALIDADE_1304          0\n",
       "VL_PROVISAO                     0\n",
       "VL_SALDO_ENCARGO_APROPRIAR      0\n",
       "VL_OPERACAO                     0\n",
       "TIPO_PESSOA                     0\n",
       "GARANTIA_REAL                   0\n",
       "COBRANÇA                        0\n",
       "Unnamed: 18                   100\n",
       "dtype: int64"
      ]
     },
     "execution_count": 27,
     "metadata": {},
     "output_type": "execute_result"
    }
   ],
   "source": [
    "df2.isna().sum()"
   ]
  },
  {
   "cell_type": "code",
   "execution_count": 30,
   "id": "2c4ce697",
   "metadata": {},
   "outputs": [
    {
     "name": "stderr",
     "output_type": "stream",
     "text": [
      "C:\\Users\\5016568\\AppData\\Local\\Temp\\ipykernel_16188\\2491242825.py:1: SettingWithCopyWarning: \n",
      "A value is trying to be set on a copy of a slice from a DataFrame\n",
      "\n",
      "See the caveats in the documentation: https://pandas.pydata.org/pandas-docs/stable/user_guide/indexing.html#returning-a-view-versus-a-copy\n",
      "  df2.rename(columns={'NM_PESSOA':'nome'},inplace=True)\n"
     ]
    }
   ],
   "source": [
    "df2.rename(columns={'NM_PESSOA':'nome'},inplace=True)\n"
   ]
  },
  {
   "cell_type": "code",
   "execution_count": 38,
   "id": "aba820a5",
   "metadata": {},
   "outputs": [
    {
     "data": {
      "text/html": [
       "<div>\n",
       "<style scoped>\n",
       "    .dataframe tbody tr th:only-of-type {\n",
       "        vertical-align: middle;\n",
       "    }\n",
       "\n",
       "    .dataframe tbody tr th {\n",
       "        vertical-align: top;\n",
       "    }\n",
       "\n",
       "    .dataframe thead th {\n",
       "        text-align: right;\n",
       "    }\n",
       "</style>\n",
       "<table border=\"1\" class=\"dataframe\">\n",
       "  <thead>\n",
       "    <tr style=\"text-align: right;\">\n",
       "      <th></th>\n",
       "      <th>nome</th>\n",
       "      <th>CPF</th>\n",
       "      <th>VL_OPERACAO</th>\n",
       "      <th>CD_CLASSIFICACAO</th>\n",
       "    </tr>\n",
       "  </thead>\n",
       "  <tbody>\n",
       "    <tr>\n",
       "      <th>0</th>\n",
       "      <td>PAULO ALBERTO DE SOUZA ANDRADE                ...</td>\n",
       "      <td>2116561</td>\n",
       "      <td>2941,71</td>\n",
       "      <td>CC</td>\n",
       "    </tr>\n",
       "    <tr>\n",
       "      <th>1</th>\n",
       "      <td>MERCIA DE SOUZA SILVA                         ...</td>\n",
       "      <td>3289443</td>\n",
       "      <td>3111,49</td>\n",
       "      <td>CC</td>\n",
       "    </tr>\n",
       "    <tr>\n",
       "      <th>2</th>\n",
       "      <td>DAIANE DE LIMA SANTANA                        ...</td>\n",
       "      <td>6723195</td>\n",
       "      <td>16086,56</td>\n",
       "      <td>CC</td>\n",
       "    </tr>\n",
       "    <tr>\n",
       "      <th>3</th>\n",
       "      <td>GRACILIANO FRANCISCO DOS SANTOS FILHO         ...</td>\n",
       "      <td>9157859</td>\n",
       "      <td>2420,27</td>\n",
       "      <td>CC</td>\n",
       "    </tr>\n",
       "    <tr>\n",
       "      <th>4</th>\n",
       "      <td>CLAUDEMIR DOS SANTOS                          ...</td>\n",
       "      <td>12651567</td>\n",
       "      <td>6947,11</td>\n",
       "      <td>CC</td>\n",
       "    </tr>\n",
       "    <tr>\n",
       "      <th>...</th>\n",
       "      <td>...</td>\n",
       "      <td>...</td>\n",
       "      <td>...</td>\n",
       "      <td>...</td>\n",
       "    </tr>\n",
       "    <tr>\n",
       "      <th>95</th>\n",
       "      <td>IZELDA DE ARAUJO ALVES                        ...</td>\n",
       "      <td>75772574</td>\n",
       "      <td>1967,66</td>\n",
       "      <td>CC</td>\n",
       "    </tr>\n",
       "    <tr>\n",
       "      <th>96</th>\n",
       "      <td>JACQUELINE SOUZA DE AZEVEDO DANTAS            ...</td>\n",
       "      <td>75797569</td>\n",
       "      <td>57969,07</td>\n",
       "      <td>CC</td>\n",
       "    </tr>\n",
       "    <tr>\n",
       "      <th>97</th>\n",
       "      <td>JOAO SANTOS DE CARVALHO                       ...</td>\n",
       "      <td>76122573</td>\n",
       "      <td>3165,54</td>\n",
       "      <td>CC</td>\n",
       "    </tr>\n",
       "    <tr>\n",
       "      <th>98</th>\n",
       "      <td>JOSE CICERO DA SILVA                          ...</td>\n",
       "      <td>76377563</td>\n",
       "      <td>22344,45</td>\n",
       "      <td>CC</td>\n",
       "    </tr>\n",
       "    <tr>\n",
       "      <th>99</th>\n",
       "      <td>JOSEILDA DOS SANTOS NASCIMENTO                ...</td>\n",
       "      <td>76812596</td>\n",
       "      <td>1560,84</td>\n",
       "      <td>CC</td>\n",
       "    </tr>\n",
       "  </tbody>\n",
       "</table>\n",
       "<p>100 rows × 4 columns</p>\n",
       "</div>"
      ],
      "text/plain": [
       "                                                 nome       CPF VL_OPERACAO  \\\n",
       "0   PAULO ALBERTO DE SOUZA ANDRADE                ...   2116561     2941,71   \n",
       "1   MERCIA DE SOUZA SILVA                         ...   3289443     3111,49   \n",
       "2   DAIANE DE LIMA SANTANA                        ...   6723195    16086,56   \n",
       "3   GRACILIANO FRANCISCO DOS SANTOS FILHO         ...   9157859     2420,27   \n",
       "4   CLAUDEMIR DOS SANTOS                          ...  12651567     6947,11   \n",
       "..                                                ...       ...         ...   \n",
       "95  IZELDA DE ARAUJO ALVES                        ...  75772574     1967,66   \n",
       "96  JACQUELINE SOUZA DE AZEVEDO DANTAS            ...  75797569    57969,07   \n",
       "97  JOAO SANTOS DE CARVALHO                       ...  76122573     3165,54   \n",
       "98  JOSE CICERO DA SILVA                          ...  76377563    22344,45   \n",
       "99  JOSEILDA DOS SANTOS NASCIMENTO                ...  76812596     1560,84   \n",
       "\n",
       "   CD_CLASSIFICACAO  \n",
       "0                CC  \n",
       "1                CC  \n",
       "2                CC  \n",
       "3                CC  \n",
       "4                CC  \n",
       "..              ...  \n",
       "95               CC  \n",
       "96               CC  \n",
       "97               CC  \n",
       "98               CC  \n",
       "99               CC  \n",
       "\n",
       "[100 rows x 4 columns]"
      ]
     },
     "execution_count": 38,
     "metadata": {},
     "output_type": "execute_result"
    }
   ],
   "source": [
    "df2.loc[0:100,['nome','CPF','VL_OPERACAO','CD_CLASSIFICACAO']]"
   ]
  },
  {
   "cell_type": "code",
   "execution_count": null,
   "id": "d3c65dd4",
   "metadata": {},
   "outputs": [],
   "source": []
  }
 ],
 "metadata": {
  "kernelspec": {
   "display_name": "Python 3 (ipykernel)",
   "language": "python",
   "name": "python3"
  },
  "language_info": {
   "codemirror_mode": {
    "name": "ipython",
    "version": 3
   },
   "file_extension": ".py",
   "mimetype": "text/x-python",
   "name": "python",
   "nbconvert_exporter": "python",
   "pygments_lexer": "ipython3",
   "version": "3.10.9"
  }
 },
 "nbformat": 4,
 "nbformat_minor": 5
}
